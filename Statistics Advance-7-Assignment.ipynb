{
 "cells": [
  {
   "cell_type": "markdown",
   "id": "2ed97d5b",
   "metadata": {},
   "source": [
    "# `Q1. Write a Python function that takes in two arrays of data and calculates the F-value for a variance ratio test. The function should return the F-value and the corresponding p-value for the test.`"
   ]
  },
  {
   "cell_type": "code",
   "execution_count": 6,
   "id": "b1f8bb57",
   "metadata": {},
   "outputs": [
    {
     "name": "stdout",
     "output_type": "stream",
     "text": [
      "F-value: 28.629787234042553\n",
      "p-value: 0.000685289458963983\n"
     ]
    }
   ],
   "source": [
    "import scipy.stats as stats\n",
    "\n",
    "def calculate_f_and_p_value(data1, data2):  # data1: First array of data & data2: Second array of data.\n",
    "    \n",
    "    \n",
    "    #f_value: The calculated F-value.\n",
    "    #p_value: The corresponding p-value.\n",
    "    \n",
    "    f_value, p_value = stats.f_oneway(data1, data2)\n",
    "    \n",
    "    return f_value, p_value\n",
    "\n",
    "# Example usage:\n",
    "data_group1 = [28, 32, 24, 30, 25]\n",
    "data_group2 = [37, 40, 45, 36, 39]\n",
    "\n",
    "f_value, p_value = calculate_f_and_p_value(data_group1, data_group2)\n",
    "print(\"F-value:\", f_value)\n",
    "print(\"p-value:\", p_value)\n"
   ]
  },
  {
   "cell_type": "code",
   "execution_count": null,
   "id": "04005956",
   "metadata": {},
   "outputs": [],
   "source": []
  },
  {
   "cell_type": "markdown",
   "id": "ba7a5056",
   "metadata": {},
   "source": [
    "# `Q2. Given a significance level of 0.05 and the degrees of freedom for the numerator and denominator of an F-distribution, write a Python function that returns the critical F-value for a two-tailed test.`"
   ]
  },
  {
   "cell_type": "code",
   "execution_count": 23,
   "id": "312bf3cd",
   "metadata": {},
   "outputs": [
    {
     "name": "stdout",
     "output_type": "stream",
     "text": [
      "Lower Critical F-value: 0.07058467426541322\n",
      "Upper Critical F-value: 3.8586986662732143\n"
     ]
    }
   ],
   "source": [
    "import scipy.stats as stats\n",
    "\n",
    "def critical_f_values(alpha, dfn, dfd):\n",
    "   \n",
    "    # alpha: Significance level (e.g., 0.05 for 5% significance).\n",
    "    # dfn: Degrees of freedom for the numerator.\n",
    "    # dfd: Degrees of freedom for the denominator.\n",
    "\n",
    "   \n",
    "    alpha_over_2 = alpha / 2  # For a two-tailed test, divide alpha by 2\n",
    "\n",
    "    # Calculate lower and upper critical F-values\n",
    "    lower_critical_f = stats.f.ppf(alpha_over_2, dfn, dfd)\n",
    "    upper_critical_f = stats.f.ppf(1 - alpha_over_2, dfn, dfd)\n",
    "\n",
    "    return lower_critical_f, upper_critical_f\n",
    "\n",
    "# Example usage:\n",
    "alpha = 0.05\n",
    "dfn = 3  # Degrees of freedom for the numerator\n",
    "dfd = 20  # Degrees of freedom for the denominator\n",
    "\n",
    "lower_critical_f, upper_critical_f = critical_f_values(alpha, dfn, dfd)\n",
    "print(\"Lower Critical F-value:\", lower_critical_f)\n",
    "print(\"Upper Critical F-value:\", upper_critical_f)\n"
   ]
  },
  {
   "cell_type": "code",
   "execution_count": null,
   "id": "5a39ea23",
   "metadata": {},
   "outputs": [],
   "source": []
  },
  {
   "cell_type": "markdown",
   "id": "0ae61d4d",
   "metadata": {},
   "source": [
    "# Q3. Write a Python program that generates random samples from two normal distributions with known variances and uses an F-test to determine if the variances are equal. The program should output the F-value, degrees of freedom, and p-value for the test."
   ]
  },
  {
   "cell_type": "code",
   "execution_count": 33,
   "id": "2aec2be4",
   "metadata": {},
   "outputs": [
    {
     "name": "stdout",
     "output_type": "stream",
     "text": [
      "F-value: 0.7087959958093473\n",
      "Degrees of Freedom (Numerator, Denominator): 29 39\n",
      "p-value: 0.3382337757135684\n",
      "Fail to reject the null hypothesis: Variances are equal.\n"
     ]
    }
   ],
   "source": [
    "import numpy as np\n",
    "import scipy.stats as stats\n",
    "\n",
    "# Set random seed for reproducibility\n",
    "np.random.seed(0)\n",
    "\n",
    "# Generate random samples from two normal distributions with known variances\n",
    "variance1 = 4.0  # Variance of the first distribution\n",
    "variance2 = 9.0  # Variance of the second distribution\n",
    "sample_size1 = 30  # Sample size for the first distribution\n",
    "sample_size2 = 40  # Sample size for the second distribution\n",
    "\n",
    "data1 = np.random.normal(loc=0, scale=np.sqrt(variance1), size=sample_size1)\n",
    "data2 = np.random.normal(loc=0, scale=np.sqrt(variance2), size=sample_size2)\n",
    "\n",
    "# Perform an F-test for equality of variances\n",
    "f_value = np.var(data1, ddof=1) / np.var(data2, ddof=1)\n",
    "dfn = sample_size1 - 1  # Degrees of freedom for the numerator\n",
    "dfd = sample_size2 - 1  # Degrees of freedom for the denominator\n",
    "p_value = 2 * min(stats.f.cdf(f_value, dfn, dfd), 1 - stats.f.cdf(f_value, dfn, dfd))\n",
    "\n",
    "# Output the results\n",
    "print(\"F-value:\", f_value)\n",
    "print(\"Degrees of Freedom (Numerator, Denominator):\", dfn, dfd)\n",
    "print(\"p-value:\", p_value)\n",
    "\n",
    "# Perform a significance test at a specific alpha level (e.g., 0.05)\n",
    "alpha = 0.05\n",
    "if p_value < alpha:\n",
    "    print(\"Reject the null hypothesis: Variances are not equal.\")\n",
    "else:\n",
    "    print(\"Fail to reject the null hypothesis: Variances are equal.\")\n"
   ]
  },
  {
   "cell_type": "code",
   "execution_count": 31,
   "id": "75a771f4",
   "metadata": {},
   "outputs": [
    {
     "data": {
      "text/plain": [
       "array([ 1.45818112,  0.25796582,  2.27880137, -2.46965164,  0.80468328,\n",
       "       -1.36962018, -1.7415943 , -1.15769933, -0.62310506,  0.11233068,\n",
       "       -2.33029968,  1.80165297,  0.93132488, -3.07248737,  2.97650439,\n",
       "        3.79177835,  2.35755914, -0.35984967, -2.14150524,  2.10890345,\n",
       "       -0.80635389,  2.44489014,  0.41654996,  1.95327807,  0.71273279,\n",
       "        1.41314634,  0.02100004,  3.57174099,  0.25382419,  0.80397873])"
      ]
     },
     "execution_count": 31,
     "metadata": {},
     "output_type": "execute_result"
    }
   ],
   "source": []
  },
  {
   "cell_type": "code",
   "execution_count": null,
   "id": "38a4829a",
   "metadata": {},
   "outputs": [],
   "source": []
  },
  {
   "cell_type": "markdown",
   "id": "fe196560",
   "metadata": {},
   "source": [
    "# Q4.The variances of two populations are known to be 10 and 15. A sample of 12 observations is taken from each population. Conduct an F-test at the 5% significance level to determine if the variances are significantly different."
   ]
  },
  {
   "cell_type": "code",
   "execution_count": 35,
   "id": "e2bf2ad2",
   "metadata": {},
   "outputs": [],
   "source": [
    "# To conduct an F-test to determine if the variances of two populations are significantly different"
   ]
  },
  {
   "cell_type": "code",
   "execution_count": 34,
   "id": "724463e8",
   "metadata": {},
   "outputs": [
    {
     "name": "stdout",
     "output_type": "stream",
     "text": [
      "F-statistic: 0.6666666666666666\n",
      "Degrees of Freedom (Numerator, Denominator): 11 11\n",
      "p-value: 0.5123897987357996\n",
      "Fail to reject the null hypothesis: Variances are not significantly different.\n"
     ]
    }
   ],
   "source": [
    "import scipy.stats as stats\n",
    "\n",
    "# Known population variances\n",
    "variance1 = 10\n",
    "variance2 = 15\n",
    "\n",
    "# Sample sizes\n",
    "n1 = 12\n",
    "n2 = 12\n",
    "\n",
    "# Calculate F-statistic\n",
    "f_statistic = variance1 / variance2\n",
    "\n",
    "# Degrees of freedom\n",
    "dfn = n1 - 1\n",
    "dfd = n2 - 1\n",
    "\n",
    "# Calculate the p-value for the F-test\n",
    "p_value = 2 * min(stats.f.cdf(f_statistic, dfn, dfd), 1 - stats.f.cdf(f_statistic, dfn, dfd))\n",
    "\n",
    "# Significance level\n",
    "alpha = 0.05\n",
    "\n",
    "# Output results\n",
    "print(\"F-statistic:\", f_statistic)\n",
    "print(\"Degrees of Freedom (Numerator, Denominator):\", dfn, dfd)\n",
    "print(\"p-value:\", p_value)\n",
    "\n",
    "# Perform the significance test\n",
    "if p_value < alpha:\n",
    "    print(\"Reject the null hypothesis: Variances are significantly different.\")\n",
    "else:\n",
    "    print(\"Fail to reject the null hypothesis: Variances are not significantly different.\")\n"
   ]
  },
  {
   "cell_type": "code",
   "execution_count": null,
   "id": "4d276382",
   "metadata": {},
   "outputs": [],
   "source": []
  },
  {
   "cell_type": "markdown",
   "id": "4298362d",
   "metadata": {},
   "source": [
    "# Q5. A manufacturer claims that the variance of the diameter of a certain product is 0.005. A sample of 25 products is taken, and the sample variance is found to be 0.006. Conduct an F-test at the 1% significance level to determine if the claim is justified."
   ]
  },
  {
   "cell_type": "code",
   "execution_count": 37,
   "id": "0a0acd1a",
   "metadata": {},
   "outputs": [
    {
     "name": "stdout",
     "output_type": "stream",
     "text": [
      "F-statistic: 1.2\n",
      "Degrees of Freedom (Numerator, Denominator): 24 inf\n",
      "p-value: 0.0\n",
      "Reject the null hypothesis: The claim is not justified.\n"
     ]
    }
   ],
   "source": [
    "import scipy.stats as stats\n",
    "\n",
    "# Manufacturer's claim about the variance\n",
    "claimed_variance = 0.005\n",
    "\n",
    "# Sample variance\n",
    "sample_variance = 0.006\n",
    "\n",
    "# Sample size\n",
    "sample_size = 25\n",
    "\n",
    "# Calculate F-statistic\n",
    "f_statistic = sample_variance / claimed_variance\n",
    "\n",
    "# Degrees of freedom\n",
    "dfn = sample_size - 1\n",
    "dfd = float('inf')  # Assuming infinite degrees of freedom for the claimed variance\n",
    "\n",
    "# Calculate the p-value for the F-test\n",
    "p_value = 2 * min(stats.f.cdf(f_statistic, dfn, dfd), 1 - stats.f.cdf(f_statistic, dfn, dfd))\n",
    "\n",
    "# Significance level\n",
    "alpha = 0.01\n",
    "\n",
    "# Output results\n",
    "print(\"F-statistic:\", f_statistic)\n",
    "print(\"Degrees of Freedom (Numerator, Denominator):\", dfn, dfd)\n",
    "print(\"p-value:\", p_value)\n",
    "\n",
    "# Perform the significance test\n",
    "if p_value < alpha:\n",
    "    print(\"Reject the null hypothesis: The claim is not justified.\")\n",
    "else:\n",
    "    print(\"Fail to reject the null hypothesis: The claim is justified.\")\n"
   ]
  },
  {
   "cell_type": "code",
   "execution_count": null,
   "id": "3374fa17",
   "metadata": {},
   "outputs": [],
   "source": []
  },
  {
   "cell_type": "markdown",
   "id": "d0b2c54d",
   "metadata": {},
   "source": [
    "# Q6. Write a Python function that takes in the degrees of freedom for the numerator and denominator of an F-distribution and calculates the mean and variance of the distribution. The function should return the mean and variance as a tuple"
   ]
  },
  {
   "cell_type": "code",
   "execution_count": 47,
   "id": "3fdb316e",
   "metadata": {},
   "outputs": [
    {
     "name": "stdout",
     "output_type": "stream",
     "text": [
      "Mean of F-distribution: 1.25\n",
      "Variance of F-distribution: 1.3541666666666667\n"
     ]
    }
   ],
   "source": [
    "def f_distribution_mean_variance(dfn, dfd):\n",
    "    \n",
    "#dfn: Degrees of freedom for the numerator.\n",
    "#dfd: Degrees of freedom for the denominator.\n",
    "\n",
    "    if dfd > 2:\n",
    "        mean = dfd / (dfd - 2)\n",
    "    else:\n",
    "        mean = float('NaN')\n",
    "\n",
    "    if dfd > 4:\n",
    "        variance = (2 * dfd**2 * (dfn + dfd - 2)) / (dfn * (dfd - 2)**2 * (dfd - 4))\n",
    "    else:\n",
    "        variance = float('NaN')\n",
    "\n",
    "    return mean, variance\n",
    "\n",
    "# Example usage:\n",
    "dfn = 5  # Degrees of freedom for the numerator\n",
    "dfd = 10  # Degrees of freedom for the denominator\n",
    "\n",
    "mean, variance = f_distribution_mean_variance(dfn, dfd)\n",
    "print(\"Mean of F-distribution:\", mean)\n",
    "print(\"Variance of F-distribution:\", variance)\n"
   ]
  },
  {
   "cell_type": "code",
   "execution_count": null,
   "id": "bae9544e",
   "metadata": {},
   "outputs": [],
   "source": []
  },
  {
   "cell_type": "markdown",
   "id": "905b61eb",
   "metadata": {},
   "source": [
    "# Q7. A random sample of 10 measurements is taken from a normal population with unknown variance. The sample variance is found to be 25. Another random sample of 15 measurements is taken from another normal population with unknown variance, and the sample variance is found to be 20. Conduct an F-test at the 10% significance level to determine if the variances are significantly different."
   ]
  },
  {
   "cell_type": "raw",
   "id": "96d874f6",
   "metadata": {},
   "source": [
    "To conduct an F-test to determine if the variances of two populations are significantly different at the 10% significance level, you can follow these steps:\n",
    "\n",
    "step1:-- Define the Null and Alternatice hypotheses:\n",
    "\n",
    "- Null Hypothesis(H0): the variance of thw two populations are equal\n",
    "- Alternative Hypothesis(H1):- The variance of the two populations are not equal.\n",
    "\n",
    "\n",
    "Step2:-- Set the significance level(alpha) to 0.10(10%)\n",
    "step3:-- Calculate the F-statistic using the formula\n",
    "\n",
    "F = sample variance of the first population/sample variance of the second population\n",
    "\n",
    "step4:-- Determine the degrees of freedom for the numerator(dfn)and denominator(dfd)for the F-distribution:\n",
    "\n",
    "dfn1 = sample size of the first population -1\n",
    "dfn2 = sample size of the second population-1\n",
    "dfd1 = sample size of the first population -1\n",
    "dfd2 = sample size of the second population-1\n",
    "\n",
    "\n",
    "step5:- Use the F-distribution to calculate the p-value associated with the F-statistic.\n",
    "\n",
    "step6:-- Compare the p-value to the significance level(alpha):\n",
    "IF p-value is less than alpha, then reject the null hypothesis\n",
    "If p-value is greater than equal alpha,then fail to reject the null hypothesis.\n",
    "\n"
   ]
  },
  {
   "cell_type": "code",
   "execution_count": 48,
   "id": "ae9d8ab6",
   "metadata": {},
   "outputs": [
    {
     "name": "stdout",
     "output_type": "stream",
     "text": [
      "F-statistic: 1.25\n",
      "Degrees of Freedom (Numerator 1, Denominator 1): 9 9\n",
      "Degrees of Freedom (Numerator 2, Denominator 2): 14 14\n",
      "p-value: 0.682051981692404\n",
      "Fail to reject the null hypothesis: Variances are equal.\n"
     ]
    }
   ],
   "source": [
    "import scipy.stats as stats\n",
    "\n",
    "# Sample variances\n",
    "sample_variance1 = 25\n",
    "sample_variance2 = 20\n",
    "\n",
    "# Sample sizes\n",
    "sample_size1 = 10\n",
    "sample_size2 = 15\n",
    "\n",
    "# Calculate F-statistic\n",
    "f_statistic = sample_variance1 / sample_variance2\n",
    "\n",
    "# Degrees of freedom\n",
    "dfn1 = sample_size1 - 1\n",
    "dfn2 = sample_size2 - 1\n",
    "dfd1 = dfn1\n",
    "dfd2 = dfn2\n",
    "\n",
    "# Calculate the p-value for the F-test\n",
    "p_value = 2 * min(stats.f.cdf(f_statistic, dfn1, dfd1), 1 - stats.f.cdf(f_statistic, dfn2, dfd2))\n",
    "\n",
    "# Significance level\n",
    "alpha = 0.10\n",
    "\n",
    "# Output results\n",
    "print(\"F-statistic:\", f_statistic)\n",
    "print(\"Degrees of Freedom (Numerator 1, Denominator 1):\", dfn1, dfd1)\n",
    "print(\"Degrees of Freedom (Numerator 2, Denominator 2):\", dfn2, dfd2)\n",
    "print(\"p-value:\", p_value)\n",
    "\n",
    "# Perform the significance test\n",
    "if p_value < alpha:\n",
    "    print(\"Reject the null hypothesis: Variances are not equal.\")\n",
    "else:\n",
    "    print(\"Fail to reject the null hypothesis: Variances are equal.\")\n"
   ]
  },
  {
   "cell_type": "code",
   "execution_count": null,
   "id": "742028b5",
   "metadata": {},
   "outputs": [],
   "source": []
  },
  {
   "cell_type": "markdown",
   "id": "3a4eeeaa",
   "metadata": {},
   "source": [
    "## `Q8. The following data represent the waiting times in minutes at two different restaurants on a Saturday night: Restaurant A: 24, 25, 28, 23, 22, 20, 27; Restaurant B: 31, 33, 35, 30, 32, 36. Conduct an F-test at the 5% significance level to determine if the variances are significantly different.`"
   ]
  },
  {
   "cell_type": "raw",
   "id": "21d77832",
   "metadata": {},
   "source": [
    "To conduct an F-test to determine if the variances of two datasets (Restaurant A and Restaurant B) are significantly different at the 5% significance level,\n",
    "\n",
    "\n",
    "\n",
    "step1:-- Define the Null and Alternatice hypotheses:\n",
    "\n",
    "- Null Hypothesis(H0): the variance of thw two populations are equal\n",
    "- Alternative Hypothesis(H1):- The variance of the two populations are not equal.\n",
    "\n",
    "\n",
    "Step2:-- Set the significance level(alpha) to 0.05(5%)\n",
    "\n",
    "Step3:- calculate the F-statistic using thr formula:\n",
    "F = sample variance of Restaurnt A / sample variance of RestaurantB\n",
    "\n",
    "\n",
    "Step4:- Determine the degrees of freedom for the numerator(dfn)and denominator(dfd)for the F-distribition.\n",
    "dfn = sample size of Restaurant A - 1\n",
    "dfd = sample size of Restaurant B - 1\n",
    "\n",
    "Step5:-Use the F-distribution to calculate the p-value associated with the F-statistic.\n",
    "\n",
    "6:- Compare the p-value to the significance level (alpha):\n",
    "\n",
    "If p-value < alpha, reject the null hypothesis.\n",
    "If p-value >= alpha, fail to reject the null hypothesis."
   ]
  },
  {
   "cell_type": "code",
   "execution_count": 49,
   "id": "a9150d7a",
   "metadata": {},
   "outputs": [
    {
     "name": "stdout",
     "output_type": "stream",
     "text": [
      "F-statistic: 1.4551907719609583\n",
      "Degrees of Freedom (Numerator, Denominator): 6 5\n",
      "p-value: 0.6974815747937484\n",
      "Fail to reject the null hypothesis: Variances are equal.\n"
     ]
    }
   ],
   "source": [
    "import scipy.stats as stats\n",
    "\n",
    "# Waiting times data for Restaurant A and Restaurant B\n",
    "data_a = [24, 25, 28, 23, 22, 20, 27]\n",
    "data_b = [31, 33, 35, 30, 32, 36]\n",
    "\n",
    "# Calculate sample variances\n",
    "sample_variance_a = sum((x - sum(data_a) / len(data_a))**2 for x in data_a) / (len(data_a) - 1)\n",
    "sample_variance_b = sum((x - sum(data_b) / len(data_b))**2 for x in data_b) / (len(data_b) - 1)\n",
    "\n",
    "# Calculate F-statistic\n",
    "f_statistic = sample_variance_a / sample_variance_b\n",
    "\n",
    "# Degrees of freedom\n",
    "dfn = len(data_a) - 1\n",
    "dfd = len(data_b) - 1\n",
    "\n",
    "# Calculate the p-value for the F-test\n",
    "p_value = 2 * min(stats.f.cdf(f_statistic, dfn, dfd), 1 - stats.f.cdf(f_statistic, dfn, dfd))\n",
    "\n",
    "# Significance level\n",
    "alpha = 0.05\n",
    "\n",
    "# Output results\n",
    "print(\"F-statistic:\", f_statistic)\n",
    "print(\"Degrees of Freedom (Numerator, Denominator):\", dfn, dfd)\n",
    "print(\"p-value:\", p_value)\n",
    "\n",
    "# Perform the significance test\n",
    "if p_value < alpha:\n",
    "    print(\"Reject the null hypothesis: Variances are not equal.\")\n",
    "else:\n",
    "    print(\"Fail to reject the null hypothesis: Variances are equal.\")\n"
   ]
  },
  {
   "cell_type": "code",
   "execution_count": null,
   "id": "5ae9022e",
   "metadata": {},
   "outputs": [],
   "source": []
  },
  {
   "cell_type": "markdown",
   "id": "50ff3a13",
   "metadata": {},
   "source": [
    "## `Q9. The following data represent the test scores of two groups of students: Group A: 80, 85, 90, 92, 87, 83; Group B: 75, 78, 82, 79, 81, 84. Conduct an F-test at the 1% significance level to determine if the variances are significantly different.`"
   ]
  },
  {
   "cell_type": "markdown",
   "id": "8784adff",
   "metadata": {},
   "source": [
    "The formula for the sample variance is:\n",
    "s2(S square)=1/n-1 E(i=1)(xi -ˉxˉ)2                    *2 squares each of these differences\n",
    " \n",
    " \n",
    " \n",
    "s2i s the sample variance.\n",
    "n is the sample size.\n",
    "xi: represents each individual data point in the sample.\n",
    "ˉxˉis the sample mean.\n",
    "\n",
    "#### sample_variance_a = sum((x - sum(group_a_scores) / len(group_a_scores))**2 for x in group_a_scores) / (len(group_a_scores) - 1)\n",
    "\n",
    "\n",
    "\n",
    "Step1:-Define the null and alternative hypotheses:\n",
    "\n",
    "Null Hypothesis (H0): The variances of the two populations are equal\n",
    "Alternative Hypothesis (H1): The variances of the two populations are not equal\n",
    "\n",
    "Step2:-\n",
    "Set the significance level (alpha) to 0.01 (1%).\n",
    "\n",
    "Step3:-\n",
    "Calculate the F-statistic using the formula:\n",
    "F = (sample variance of Group A) / (sample variance of Group B)\n",
    "\n",
    "\n",
    "Step4:-\n",
    "Determine the degrees of freedom for the numerator (dfn) and denominator (dfd) for the F-distribution:\n",
    "\n",
    "dfn = sample size of Group A - 1\n",
    "dfd = sample size of Group B - 1\n",
    "\n",
    "Step5:-\n",
    "Use the F-distribution to calculate the p-value associated with the F-statistic.\n",
    "\n",
    "Step6:-\n",
    "Compare the p-value to the significance level (alpha):\n",
    "\n",
    "If p-value < alpha, reject the null hypothesis.\n",
    "If p-value >= alpha, fail to reject the null hypothesis.\n",
    "\n",
    "\n"
   ]
  },
  {
   "cell_type": "code",
   "execution_count": 51,
   "id": "10395c8d",
   "metadata": {},
   "outputs": [
    {
     "name": "stdout",
     "output_type": "stream",
     "text": [
      "F-statistic: 1.9442622950819677\n",
      "Degrees of Freedom (Numerator, Denominator): 5 5\n",
      "p-value: 0.4831043549070688\n",
      "Fail to reject the null hypothesis: Variances are equal.\n"
     ]
    }
   ],
   "source": [
    "import scipy.stats as stats\n",
    "\n",
    "# Test scores data for Group A and Group B\n",
    "group_a_scores = [80, 85, 90, 92, 87, 83]\n",
    "group_b_scores = [75, 78, 82, 79, 81, 84]\n",
    "\n",
    "# Calculate sample variances\n",
    "sample_variance_a = sum((x - sum(group_a_scores) / len(group_a_scores))**2 for x in group_a_scores) / (len(group_a_scores) - 1)\n",
    "sample_variance_b = sum((x - sum(group_b_scores) / len(group_b_scores))**2 for x in group_b_scores) / (len(group_b_scores) - 1)\n",
    "\n",
    "# Calculate F-statistic\n",
    "f_statistic = sample_variance_a / sample_variance_b\n",
    "\n",
    "# Degrees of freedom\n",
    "dfn = len(group_a_scores) - 1\n",
    "dfd = len(group_b_scores) - 1\n",
    "\n",
    "# Calculate the p-value for the F-test\n",
    "p_value = 2 * min(stats.f.cdf(f_statistic, dfn, dfd), 1 - stats.f.cdf(f_statistic, dfn, dfd))\n",
    "\n",
    "# Significance level\n",
    "alpha = 0.01\n",
    "\n",
    "# Output results\n",
    "print(\"F-statistic:\", f_statistic)\n",
    "print(\"Degrees of Freedom (Numerator, Denominator):\", dfn, dfd)\n",
    "print(\"p-value:\", p_value)\n",
    "\n",
    "# Perform the significance test\n",
    "if p_value < alpha:\n",
    "    print(\"Reject the null hypothesis: Variances are not equal.\")\n",
    "else:\n",
    "    print(\"Fail to reject the null hypothesis: Variances are equal.\")\n"
   ]
  },
  {
   "cell_type": "code",
   "execution_count": null,
   "id": "b3ead459",
   "metadata": {},
   "outputs": [],
   "source": []
  }
 ],
 "metadata": {
  "kernelspec": {
   "display_name": "Python 3 (ipykernel)",
   "language": "python",
   "name": "python3"
  },
  "language_info": {
   "codemirror_mode": {
    "name": "ipython",
    "version": 3
   },
   "file_extension": ".py",
   "mimetype": "text/x-python",
   "name": "python",
   "nbconvert_exporter": "python",
   "pygments_lexer": "ipython3",
   "version": "3.9.12"
  }
 },
 "nbformat": 4,
 "nbformat_minor": 5
}
